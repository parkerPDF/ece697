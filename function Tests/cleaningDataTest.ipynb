{
 "metadata": {
  "language_info": {
   "codemirror_mode": {
    "name": "ipython",
    "version": 3
   },
   "file_extension": ".py",
   "mimetype": "text/x-python",
   "name": "python",
   "nbconvert_exporter": "python",
   "pygments_lexer": "ipython3",
   "version": "3.9.4"
  },
  "orig_nbformat": 4,
  "kernelspec": {
   "name": "python3",
   "display_name": "Python 3.9.4 64-bit"
  },
  "interpreter": {
   "hash": "26169d9c193f7cd5820e377ba54523d16973b5786da5fd4498564bb09d5057c5"
  }
 },
 "nbformat": 4,
 "nbformat_minor": 2,
 "cells": [
  {
   "cell_type": "code",
   "execution_count": 1,
   "metadata": {},
   "outputs": [],
   "source": [
    "import sklearn\n",
    "from sklearn.linear_model import Ridge\n",
    "import time\n",
    "from scipy.io import loadmat\n",
    "import functionList\n",
    "import numpy as np\n",
    "import pandas as pd\n",
    "import torch"
   ]
  },
  {
   "cell_type": "code",
   "execution_count": 2,
   "metadata": {},
   "outputs": [
    {
     "output_type": "execute_result",
     "data": {
      "text/plain": [
       "169870"
      ]
     },
     "metadata": {},
     "execution_count": 2
    }
   ],
   "source": [
    "raw = loadmat(r\"C:\\Users\\parkf\\Desktop\\summer2021\\eegData\\for_Barry\\282L.mat\")\n",
    "x_raw = raw['data']\n",
    "mask = raw['mask']\n",
    "x_raw.shape[0]"
   ]
  },
  {
   "cell_type": "code",
   "execution_count": 5,
   "metadata": {},
   "outputs": [],
   "source": [
    "memVec = [2]\n",
    "ridgeVec = [.1]\n",
    "l = x_raw.shape[0]\n",
    "ridgeVecNormal = np.dot(ridgeVec,l)\n",
    "\n",
    "s = (len(memVec),len(ridgeVec),10)\n",
    "error = np.zeros(s)\n",
    "runTimes = np.zeros(s)\n",
    "for memNumber in memVec:\n",
    "    featureMat_raw = functionList.buildFeatureMat(x_raw,memNumber)\n",
    "    featureMat_clean = functionList.removeTrash(featureMat_raw, mask, memNumber)\n",
    "    x_clean = functionList.removeTrash(x_raw, mask, memNumber)"
   ]
  },
  {
   "cell_type": "code",
   "execution_count": 6,
   "metadata": {},
   "outputs": [
    {
     "output_type": "execute_result",
     "data": {
      "text/plain": [
       "(164844, 23)"
      ]
     },
     "metadata": {},
     "execution_count": 6
    }
   ],
   "source": [
    "x_clean.shape\n"
   ]
  },
  {
   "cell_type": "code",
   "execution_count": 8,
   "metadata": {},
   "outputs": [
    {
     "output_type": "execute_result",
     "data": {
      "text/plain": [
       "(169870, 23)"
      ]
     },
     "metadata": {},
     "execution_count": 8
    }
   ],
   "source": [
    "x_raw.shape"
   ]
  },
  {
   "cell_type": "code",
   "execution_count": null,
   "metadata": {},
   "outputs": [],
   "source": []
  }
 ]
}