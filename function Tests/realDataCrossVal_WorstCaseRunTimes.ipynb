{
 "metadata": {
  "language_info": {
   "codemirror_mode": {
    "name": "ipython",
    "version": 3
   },
   "file_extension": ".py",
   "mimetype": "text/x-python",
   "name": "python",
   "nbconvert_exporter": "python",
   "pygments_lexer": "ipython3",
   "version": "3.9.4"
  },
  "orig_nbformat": 4,
  "kernelspec": {
   "name": "python3",
   "display_name": "Python 3.9.4 64-bit"
  },
  "interpreter": {
   "hash": "26169d9c193f7cd5820e377ba54523d16973b5786da5fd4498564bb09d5057c5"
  }
 },
 "nbformat": 4,
 "nbformat_minor": 2,
 "cells": [
  {
   "cell_type": "code",
   "execution_count": 2,
   "source": [
    "import sklearn\r\n",
    "from sklearn.linear_model import Ridge\r\n",
    "import time\r\n",
    "from scipy.io import loadmat\r\n",
    "sys.path.insert(0, r\"C:\\Users\\parkf\\Desktop\\summer2021\\projectFilesGitManaged\") #temporaraly add the path we need for function list to PATH\r\n",
    "import functionList\r\n",
    "import numpy as np\r\n",
    "import pandas as pd\r\n",
    "import torch"
   ],
   "outputs": [],
   "metadata": {}
  },
  {
   "cell_type": "code",
   "execution_count": 29,
   "source": [
    "raw = loadmat(r\"C:\\Users\\parkf\\Desktop\\summer2021\\eegData\\for_Barry\\524R.mat\") #change this to try different one off files\r\n",
    "X = raw['data']   #[0][0]['data'] #file format is different from ###L/R.mat vs the sample data\r\n",
    "mask = raw['mask']\r\n",
    "l = X.shape[0]"
   ],
   "outputs": [],
   "metadata": {}
  },
  {
   "cell_type": "code",
   "execution_count": 30,
   "source": [
    "#holdStack = X\r\n",
    "#for i in range(9):\r\n",
    "#    X = np.hstack((X,holdStack))"
   ],
   "outputs": [],
   "metadata": {}
  },
  {
   "cell_type": "code",
   "execution_count": 31,
   "source": [
    "memVec = [4, 8, 16]\r\n",
    "ridgeVec = [0]\r\n",
    "ridgeVecNormal = np.dot(ridgeVec,l)\r\n",
    "\r\n",
    "s = (len(memVec),len(ridgeVec),10)\r\n",
    "error = np.zeros(s)\r\n",
    "runTimes = np.zeros(s)\r\n",
    "for memNumber in memVec:\r\n",
    "    featureMat = functionList.buildFeatureMat(X,memNumber)\r\n",
    "    featureMat = functionList.removeTrash(featureMat, mask, memNumber)\r\n",
    "    xClean = functionList.removeTrash(X, mask, memNumber)\r\n",
    "    for regularizer in ridgeVecNormal: \r\n",
    "        RR = Ridge(alpha=regularizer)\r\n",
    "        crossVal = sklearn.model_selection.KFold(n_splits=10)\r\n",
    "        cvRun = 0\r\n",
    "        for train, test in crossVal.split(featureMat):\r\n",
    "            start = time.time()\r\n",
    "            RR.fit(featureMat[train,:],xClean[train])\r\n",
    "            end = time.time()\r\n",
    "            pred = RR.predict(featureMat[test])\r\n",
    "            error[memVec.index(memNumber), ridgeVec.index(regularizer/l), cvRun] = functionList.findMSE(pred, xClean[test])\r\n",
    "            runTimes[memVec.index(memNumber), ridgeVec.index(regularizer/l), cvRun] = end - start\r\n",
    "            cvRun = cvRun + 1\r\n"
   ],
   "outputs": [
    {
     "output_type": "stream",
     "name": "stdout",
     "text": [
      "cholesky\n",
      "cholesky\n",
      "cholesky\n",
      "cholesky\n",
      "cholesky\n",
      "cholesky\n",
      "cholesky\n",
      "cholesky\n",
      "cholesky\n",
      "cholesky\n",
      "cholesky\n",
      "cholesky\n",
      "cholesky\n",
      "cholesky\n",
      "cholesky\n",
      "cholesky\n",
      "cholesky\n",
      "cholesky\n",
      "cholesky\n",
      "cholesky\n",
      "cholesky\n",
      "cholesky\n",
      "cholesky\n",
      "cholesky\n",
      "cholesky\n",
      "cholesky\n",
      "cholesky\n",
      "cholesky\n",
      "cholesky\n",
      "cholesky\n"
     ]
    }
   ],
   "metadata": {}
  },
  {
   "cell_type": "code",
   "execution_count": 32,
   "source": [
    "#print(runTimes)\r\n",
    "#print(\"erros below\")\r\n",
    "#print(error)"
   ],
   "outputs": [],
   "metadata": {}
  },
  {
   "cell_type": "code",
   "execution_count": 33,
   "source": [
    "errorGpu = np.zeros(s)\r\n",
    "runTimesGpu = np.zeros(s)\r\n",
    "for memNumber in memVec:\r\n",
    "    featureMat = functionList.buildFeatureMat(X,memNumber)\r\n",
    "    featureMat = functionList.removeTrash(featureMat, mask, memNumber)\r\n",
    "    xClean = functionList.removeTrash(X, mask, memNumber)\r\n",
    "    for regularizer in ridgeVecNormal: \r\n",
    "        crossVal = sklearn.model_selection.KFold(n_splits=10)\r\n",
    "        cvRun = 0\r\n",
    "        for train, test in crossVal.split(featureMat):\r\n",
    "            start = time.time()\r\n",
    "            w = functionList.solveRrClosedForm(featureMat[train,:],xClean[train],regularizer)\r\n",
    "            end = time.time()\r\n",
    "            pred = functionList.predClosedForm(featureMat[test,:],w)\r\n",
    "            errorGpu[memVec.index(memNumber), ridgeVec.index(regularizer/l), cvRun] = functionList.findMSE(pred, xClean[test])\r\n",
    "            runTimesGpu[memVec.index(memNumber), ridgeVec.index(regularizer/l), cvRun] = end - start\r\n",
    "            cvRun = cvRun + 1"
   ],
   "outputs": [],
   "metadata": {}
  },
  {
   "cell_type": "code",
   "execution_count": 34,
   "source": [
    "print(runTimesGpu)\r\n",
    "print(\"erros below\")\r\n",
    "print(errorGpu)"
   ],
   "outputs": [
    {
     "output_type": "stream",
     "name": "stdout",
     "text": [
      "[[[0.50166774 0.44680643 0.50763917 0.46372509 0.44278216 0.48168731\n",
      "   0.46971703 0.46871901 0.48068023 0.54750156]]\n",
      "\n",
      " [[1.17389321 1.29750228 1.36238837 1.3813076  1.44812608 1.42817712\n",
      "   1.48904943 1.46209002 1.48404098 1.45008945]]\n",
      "\n",
      " [[4.4400928  4.50683832 4.4800384  4.47706079 4.41920519 4.42116809\n",
      "   4.5149262  4.46904707 4.46007609 4.44112039]]]\n",
      "erros below\n",
      "[[[0.0039527  0.00379431 0.00376217 0.00372464 0.00374915 0.00377202\n",
      "   0.00378358 0.00412682 0.00503294 0.00435793]]\n",
      "\n",
      " [[0.00391924 0.00375557 0.00371875 0.00368598 0.00371154 0.00373491\n",
      "   0.00374594 0.00408456 0.00498943 0.00431858]]\n",
      "\n",
      " [[0.00391612 0.00375276 0.00371583 0.00368166 0.00371002 0.00373456\n",
      "   0.00374415 0.00407176 0.00497913 0.00431709]]]\n"
     ]
    }
   ],
   "metadata": {}
  },
  {
   "cell_type": "code",
   "execution_count": null,
   "source": [],
   "outputs": [],
   "metadata": {}
  }
 ]
}