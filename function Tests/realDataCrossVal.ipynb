{
 "metadata": {
  "language_info": {
   "codemirror_mode": {
    "name": "ipython",
    "version": 3
   },
   "file_extension": ".py",
   "mimetype": "text/x-python",
   "name": "python",
   "nbconvert_exporter": "python",
   "pygments_lexer": "ipython3",
   "version": "3.9.4"
  },
  "orig_nbformat": 4,
  "kernelspec": {
   "name": "python3",
   "display_name": "Python 3.9.4 64-bit"
  },
  "interpreter": {
   "hash": "26169d9c193f7cd5820e377ba54523d16973b5786da5fd4498564bb09d5057c5"
  }
 },
 "nbformat": 4,
 "nbformat_minor": 2,
 "cells": [
  {
   "cell_type": "code",
   "execution_count": 2,
   "metadata": {},
   "outputs": [],
   "source": [
    "import sklearn\n",
    "from sklearn.linear_model import Ridge\n",
    "import time\n",
    "from scipy.io import loadmat\n",
    "import functionList\n",
    "import numpy as np\n",
    "import pandas as pd"
   ]
  },
  {
   "cell_type": "code",
   "execution_count": 3,
   "metadata": {},
   "outputs": [],
   "source": [
    "raw = loadmat('sampleData.mat')\n",
    "X = raw['data'][0][0]['data']\n",
    "l = X.shape[0]"
   ]
  },
  {
   "cell_type": "code",
   "execution_count": 9,
   "metadata": {},
   "outputs": [],
   "source": [
    "memVec = [8, 16]\n",
    "ridgeVec = [.1, 1, 10]\n",
    "ridgeVecNormal = np.dot(ridgeVec,l)\n",
    "\n",
    "s = (len(memVec),len(ridgeVec),10)\n",
    "error = np.zeros(s)\n",
    "runTimes = np.zeros(s)\n",
    "for memNumber in memVec:\n",
    "    featureMat = functionList.buildFeatureMat(X,memNumber)\n",
    "    for regularizer in ridgeVecNormal: \n",
    "        RR = Ridge(alpha=regularizer)\n",
    "        crossVal = sklearn.model_selection.KFold(n_splits=10)\n",
    "        cvRun = 0\n",
    "        for train, test in crossVal.split(featureMat):\n",
    "            start = time.time()\n",
    "            RR.fit(featureMat[train,:],X[train])\n",
    "            end = time.time()\n",
    "            pred = RR.predict(featureMat[test])\n",
    "            error[memVec.index(memNumber), ridgeVec.index(regularizer/l)] = error[memVec.index(memNumber), ridgeVec.index(regularizer/l), cvRun] + functionList.findMSE(pred, X[test])\n",
    "            runTimes[memVec.index(memNumber), ridgeVec.index(regularizer/l), cvRun] = end - start\n",
    "            cvRun = cvRun + 1\n"
   ]
  },
  {
   "cell_type": "code",
   "execution_count": 10,
   "metadata": {},
   "outputs": [
    {
     "output_type": "stream",
     "name": "stdout",
     "text": [
      "[[[0.46874714 0.43796444 0.49413991 0.3490684  0.34299064 0.52608013\n   0.40082979 0.50365472 0.38657308 0.61196446]\n  [0.52013803 0.50935054 0.56302166 0.47672248 0.44110847 0.42591476\n   0.40590572 0.52875209 0.3697412  0.42485929]\n  [0.32674408 0.35439515 0.26028657 0.28227878 0.45529938 0.3712914\n   0.39394116 0.35105062 0.37898803 0.5906024 ]]\n\n [[0.85678935 0.80267549 0.93861413 1.01149082 0.99879527 0.94660044\n   0.84578085 0.80332446 0.69187832 0.79284883]\n  [0.7022419  0.82184482 0.82895708 0.8366096  0.70432925 0.79939079\n   0.69413376 0.78451252 0.86603498 0.77030873]\n  [0.73603082 0.68232322 0.81488061 0.73754334 0.79994535 1.08603501\n   0.8722508  0.99977231 0.87093282 0.90582252]]]\n\n[[[3.1394604  3.1394604  3.1394604  3.1394604  3.1394604  3.1394604\n   3.1394604  3.1394604  3.1394604  3.1394604 ]\n  [3.16424534 3.16424534 3.16424534 3.16424534 3.16424534 3.16424534\n   3.16424534 3.16424534 3.16424534 3.16424534]\n  [3.43287666 3.43287666 3.43287666 3.43287666 3.43287666 3.43287666\n   3.43287666 3.43287666 3.43287666 3.43287666]]\n\n [[3.13205732 3.13205732 3.13205732 3.13205732 3.13205732 3.13205732\n   3.13205732 3.13205732 3.13205732 3.13205732]\n  [3.15824676 3.15824676 3.15824676 3.15824676 3.15824676 3.15824676\n   3.15824676 3.15824676 3.15824676 3.15824676]\n  [3.42984009 3.42984009 3.42984009 3.42984009 3.42984009 3.42984009\n   3.42984009 3.42984009 3.42984009 3.42984009]]]\n"
     ]
    }
   ],
   "source": [
    "print(runTimes)\n",
    "print()\n",
    "print(error)"
   ]
  },
  {
   "cell_type": "code",
   "execution_count": null,
   "metadata": {},
   "outputs": [],
   "source": []
  }
 ]
}