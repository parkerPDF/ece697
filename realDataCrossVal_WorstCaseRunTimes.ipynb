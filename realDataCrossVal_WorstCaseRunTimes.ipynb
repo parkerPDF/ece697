{
 "metadata": {
  "language_info": {
   "codemirror_mode": {
    "name": "ipython",
    "version": 3
   },
   "file_extension": ".py",
   "mimetype": "text/x-python",
   "name": "python",
   "nbconvert_exporter": "python",
   "pygments_lexer": "ipython3",
   "version": "3.9.4"
  },
  "orig_nbformat": 4,
  "kernelspec": {
   "name": "python3",
   "display_name": "Python 3.9.4 64-bit"
  },
  "interpreter": {
   "hash": "26169d9c193f7cd5820e377ba54523d16973b5786da5fd4498564bb09d5057c5"
  }
 },
 "nbformat": 4,
 "nbformat_minor": 2,
 "cells": [
  {
   "cell_type": "code",
   "execution_count": 11,
   "metadata": {},
   "outputs": [],
   "source": [
    "import sklearn\n",
    "from sklearn.linear_model import Ridge\n",
    "import time\n",
    "from scipy.io import loadmat\n",
    "import functionList\n",
    "import numpy as np\n",
    "import pandas as pd\n",
    "import torch"
   ]
  },
  {
   "cell_type": "code",
   "execution_count": 12,
   "metadata": {},
   "outputs": [],
   "source": [
    "raw = loadmat('sampleData.mat')\n",
    "X = raw['data'][0][0]['data']\n",
    "l = X.shape[0]"
   ]
  },
  {
   "cell_type": "code",
   "execution_count": 13,
   "metadata": {},
   "outputs": [],
   "source": [
    "holdStack = X\n",
    "for i in range(9):\n",
    "    X = np.hstack((X,holdStack))"
   ]
  },
  {
   "cell_type": "code",
   "execution_count": 18,
   "metadata": {},
   "outputs": [],
   "source": [
    "memVec = [20]\n",
    "ridgeVec = [.1]\n",
    "ridgeVecNormal = np.dot(ridgeVec,l)\n",
    "\n",
    "s = (len(memVec),len(ridgeVec),10)\n",
    "error = np.zeros(s)\n",
    "runTimes = np.zeros(s)\n",
    "for memNumber in memVec:\n",
    "    featureMat = functionList.buildFeatureMat(X,memNumber)\n",
    "    for regularizer in ridgeVecNormal: \n",
    "        RR = Ridge(alpha=regularizer)\n",
    "        crossVal = sklearn.model_selection.KFold(n_splits=2)\n",
    "        cvRun = 0\n",
    "        for train, test in crossVal.split(featureMat):\n",
    "            start = time.time()\n",
    "            RR.fit(featureMat[train,:],X[train])\n",
    "            end = time.time()\n",
    "            pred = RR.predict(featureMat[test])\n",
    "            error[memVec.index(memNumber), ridgeVec.index(regularizer/l), cvRun] = error[memVec.index(memNumber), ridgeVec.index(regularizer/l), cvRun] + functionList.findMSE(pred, X[test])\n",
    "            runTimes[memVec.index(memNumber), ridgeVec.index(regularizer/l), cvRun] = end - start\n",
    "            cvRun = cvRun + 1\n"
   ]
  },
  {
   "cell_type": "code",
   "execution_count": 19,
   "metadata": {},
   "outputs": [
    {
     "output_type": "stream",
     "name": "stdout",
     "text": [
      "[[[ 9.99572396 10.19354916  0.          0.          0.\n    0.          0.          0.          0.          0.        ]]]\n\n[[[0.44337395 0.44511422 0.         0.         0.         0.\n   0.         0.         0.         0.        ]]]\n"
     ]
    }
   ],
   "source": [
    "print(runTimes)\n",
    "print()\n",
    "print(error)"
   ]
  },
  {
   "cell_type": "code",
   "execution_count": 20,
   "metadata": {},
   "outputs": [],
   "source": [
    "errorGpu = np.zeros(s)\n",
    "runTimesGpu = np.zeros(s)\n",
    "for memNumber in memVec:\n",
    "    featureMat = functionList.buildFeatureMat(X,memNumber)\n",
    "    for regularizer in ridgeVecNormal: \n",
    "        crossVal = sklearn.model_selection.KFold(n_splits=2)\n",
    "        cvRun = 0\n",
    "        for train, test in crossVal.split(featureMat):\n",
    "            start = time.time()\n",
    "            functionList.solveRrClosedForm(featureMat[train,:],X[train],regularizer)\n",
    "            end = time.time()\n",
    "            #errorGpu[memVec.index(memNumber), ridgeVec.index(regularizer/l), cvRun] = errorGpu[memVec.index(memNumber), ridgeVec.index(regularizer/l), cvRun] + functionList.findMSE(pred, X[test])\n",
    "            runTimesGpu[memVec.index(memNumber), ridgeVec.index(regularizer/l), cvRun] = end - start\n",
    "            cvRun = cvRun + 1"
   ]
  },
  {
   "cell_type": "code",
   "execution_count": 21,
   "metadata": {},
   "outputs": [
    {
     "output_type": "stream",
     "name": "stdout",
     "text": [
      "[[[13.25056863 14.77251196  0.          0.          0.\n    0.          0.          0.          0.          0.        ]]]\n\n[[[0. 0. 0. 0. 0. 0. 0. 0. 0. 0.]]]\n"
     ]
    }
   ],
   "source": [
    "print(runTimesGpu)\n",
    "print()\n",
    "print(errorGpu)"
   ]
  },
  {
   "cell_type": "code",
   "execution_count": null,
   "metadata": {},
   "outputs": [],
   "source": []
  }
 ]
}