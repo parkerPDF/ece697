{
 "metadata": {
  "language_info": {
   "codemirror_mode": {
    "name": "ipython",
    "version": 3
   },
   "file_extension": ".py",
   "mimetype": "text/x-python",
   "name": "python",
   "nbconvert_exporter": "python",
   "pygments_lexer": "ipython3",
   "version": "3.9.4"
  },
  "orig_nbformat": 4,
  "kernelspec": {
   "name": "python3",
   "display_name": "Python 3.9.4 64-bit"
  },
  "interpreter": {
   "hash": "26169d9c193f7cd5820e377ba54523d16973b5786da5fd4498564bb09d5057c5"
  }
 },
 "nbformat": 4,
 "nbformat_minor": 2,
 "cells": [
  {
   "cell_type": "code",
   "execution_count": 1,
   "source": [
    "import os\r\n",
    "import glob"
   ],
   "outputs": [],
   "metadata": {}
  },
  {
   "cell_type": "code",
   "execution_count": 2,
   "source": [
    "path = r'C:\\Users\\parkf\\Desktop\\summer2021\\eegData\\smallTrial'\r\n",
    "f = open(r\"C:\\Users\\parkf\\Desktop\\summer2021\\chtcRunList.txt\",\"w+\")\r\n",
    "f = open(r\"C:\\Users\\parkf\\Desktop\\summer2021\\chtcRunList.txt\",\"a\")\r\n",
    "for filename in glob.glob(os.path.join(path, '*.mat')):\r\n",
    "    keep = os.path.basename(filename)\r\n",
    "    keep = keep.split('.')[0]\r\n",
    "    for p in [4, 8, 12, 16, 20, 24, 28]:\r\n",
    "        for l in [.0001, .001]:\r\n",
    "            for cv in range(10):\r\n",
    "                token = keep + \", \" + str(p) + \", \" + str(l) + \", \" + str(cv) \r\n",
    "                f.write(token + '\\n')\r\n",
    "f.close()\r\n",
    "\r\n",
    "    "
   ],
   "outputs": [],
   "metadata": {
    "tags": []
   }
  },
  {
   "cell_type": "code",
   "execution_count": null,
   "source": [],
   "outputs": [],
   "metadata": {}
  }
 ]
}