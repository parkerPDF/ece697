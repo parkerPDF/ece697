{
 "metadata": {
  "language_info": {
   "codemirror_mode": {
    "name": "ipython",
    "version": 3
   },
   "file_extension": ".py",
   "mimetype": "text/x-python",
   "name": "python",
   "nbconvert_exporter": "python",
   "pygments_lexer": "ipython3",
   "version": "3.9.4"
  },
  "orig_nbformat": 4,
  "kernelspec": {
   "name": "python3",
   "display_name": "Python 3.9.4 64-bit"
  },
  "interpreter": {
   "hash": "26169d9c193f7cd5820e377ba54523d16973b5786da5fd4498564bb09d5057c5"
  }
 },
 "nbformat": 4,
 "nbformat_minor": 2,
 "cells": [
  {
   "cell_type": "code",
   "execution_count": 2,
   "metadata": {},
   "outputs": [],
   "source": [
    "from random import gauss\n",
    "from random import seed\n",
    "from pandas import Series\n",
    "import numpy as np\n",
    "from matplotlib import pyplot as plt\n",
    "from sklearn.linear_model import Ridge\n",
    "import sklearn\n",
    "import time\n",
    "from scipy.io import loadmat"
   ]
  },
  {
   "cell_type": "code",
   "execution_count": 41,
   "metadata": {},
   "outputs": [],
   "source": [
    "raw = loadmat('sampleData.mat')\n",
    "#type(raw['data']), raw['data'].shape ###\n",
    "#type(raw['data'][0][0]), raw['data'][0][0].shape #### Remembering how I got here\n",
    "X = raw['data'][0][0]['data']\n",
    "l = X.shape[0]"
   ]
  },
  {
   "cell_type": "code",
   "execution_count": 43,
   "metadata": {},
   "outputs": [],
   "source": [
    "c = np.ones((l,1))\n",
    "memVec = [4]\n",
    "error = np.zeros((len(memVec),2,len(memVec)))\n",
    "for px in memVec: #number of memory points to look to minus 1\n",
    "    for py in memVec:\n",
    "\n",
    "        memMat = c\n",
    "        hold = X\n",
    "        \n",
    "        for i in range(px):\n",
    "            hold = np.roll(hold,1,axis=0)\n",
    "            hold[0] = 0\n",
    "            memMat = np.hstack((memMat,hold))"
   ]
  },
  {
   "cell_type": "code",
   "execution_count": 44,
   "metadata": {},
   "outputs": [
    {
     "output_type": "stream",
     "name": "stdout",
     "text": [
      "no GPU support: 1.152801752090454\nsklearn error:  [[[4.00000000e+00]\n  [7.48480462e+03]]]\n"
     ]
    }
   ],
   "source": [
    "ols = Ridge(alpha=0)\n",
    "start = time.time()\n",
    "ols.fit(memMat,X)\n",
    "end = time.time()\n",
    "pred = ols.predict(memMat)\n",
    "print('no GPU support:', end - start)\n",
    "error[memVec.index(px), 0, memVec.index(py)] = px\n",
    "error[memVec.index(px), 1, memVec.index(py)] = np.linalg.norm((X-pred))\n",
    "print('sklearn error: ', error)"
   ]
  },
  {
   "cell_type": "code",
   "execution_count": 47,
   "metadata": {},
   "outputs": [
    {
     "output_type": "execute_result",
     "data": {
      "text/plain": [
       "(20, 81)"
      ]
     },
     "metadata": {},
     "execution_count": 47
    }
   ],
   "source": [
    "ols.coef_.shape"
   ]
  },
  {
   "cell_type": "code",
   "execution_count": 48,
   "metadata": {},
   "outputs": [
    {
     "output_type": "execute_result",
     "data": {
      "text/plain": [
       "(75000, 81)"
      ]
     },
     "metadata": {},
     "execution_count": 48
    }
   ],
   "source": [
    "memMat.shape"
   ]
  },
  {
   "cell_type": "code",
   "execution_count": 49,
   "metadata": {},
   "outputs": [
    {
     "output_type": "execute_result",
     "data": {
      "text/plain": [
       "(75000, 20)"
      ]
     },
     "metadata": {},
     "execution_count": 49
    }
   ],
   "source": [
    "X.shape"
   ]
  }
 ]
}